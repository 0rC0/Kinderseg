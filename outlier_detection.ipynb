{
 "cells": [
  {
   "cell_type": "code",
   "execution_count": 1,
   "id": "2d7e098e-657b-466a-9675-ef4347beb62a",
   "metadata": {},
   "outputs": [],
   "source": [
    "import pandas as pd\n",
    "import numpy as np"
   ]
  },
  {
   "cell_type": "code",
   "execution_count": 2,
   "id": "63462ffa-cb2a-4765-a78b-1883afbf858c",
   "metadata": {},
   "outputs": [],
   "source": [
    "# Join segmentation stats and age file"
   ]
  },
  {
   "cell_type": "code",
   "execution_count": 29,
   "id": "eab14f72-fdad-4210-b56a-cc9ad8af8013",
   "metadata": {},
   "outputs": [],
   "source": [
    "ages = './stats/HBN_noDx.csv'\n",
    "segs = './stats/HBM_fastsurfer_aseg.volume.stats.dat'"
   ]
  },
  {
   "cell_type": "code",
   "execution_count": 30,
   "id": "3084daf0-00ae-4f20-95d7-3eeeaee7a784",
   "metadata": {},
   "outputs": [
    {
     "data": {
      "text/html": [
       "<div>\n",
       "<style scoped>\n",
       "    .dataframe tbody tr th:only-of-type {\n",
       "        vertical-align: middle;\n",
       "    }\n",
       "\n",
       "    .dataframe tbody tr th {\n",
       "        vertical-align: top;\n",
       "    }\n",
       "\n",
       "    .dataframe thead th {\n",
       "        text-align: right;\n",
       "    }\n",
       "</style>\n",
       "<table border=\"1\" class=\"dataframe\">\n",
       "  <thead>\n",
       "    <tr style=\"text-align: right;\">\n",
       "      <th></th>\n",
       "      <th>ID</th>\n",
       "      <th>year</th>\n",
       "      <th>sex</th>\n",
       "      <th>age</th>\n",
       "      <th>EHQ</th>\n",
       "      <th>release</th>\n",
       "    </tr>\n",
       "  </thead>\n",
       "  <tbody>\n",
       "    <tr>\n",
       "      <th>0</th>\n",
       "      <td>NDARHV527DNK</td>\n",
       "      <td>2016.0</td>\n",
       "      <td>0</td>\n",
       "      <td>5.016997</td>\n",
       "      <td>8.94</td>\n",
       "      <td>1</td>\n",
       "    </tr>\n",
       "    <tr>\n",
       "      <th>1</th>\n",
       "      <td>NDAREW430AYU</td>\n",
       "      <td>2019.0</td>\n",
       "      <td>1</td>\n",
       "      <td>5.096851</td>\n",
       "      <td>13.34</td>\n",
       "      <td>8</td>\n",
       "    </tr>\n",
       "    <tr>\n",
       "      <th>2</th>\n",
       "      <td>NDARHJ945PV0</td>\n",
       "      <td>2017.0</td>\n",
       "      <td>0</td>\n",
       "      <td>5.140314</td>\n",
       "      <td>-17.81</td>\n",
       "      <td>2</td>\n",
       "    </tr>\n",
       "    <tr>\n",
       "      <th>3</th>\n",
       "      <td>NDARGL800LDW</td>\n",
       "      <td>2017.0</td>\n",
       "      <td>0</td>\n",
       "      <td>5.161989</td>\n",
       "      <td>13.34</td>\n",
       "      <td>1</td>\n",
       "    </tr>\n",
       "    <tr>\n",
       "      <th>4</th>\n",
       "      <td>NDAREM703YFD</td>\n",
       "      <td>2018.0</td>\n",
       "      <td>0</td>\n",
       "      <td>5.189368</td>\n",
       "      <td>100.00</td>\n",
       "      <td>3</td>\n",
       "    </tr>\n",
       "    <tr>\n",
       "      <th>...</th>\n",
       "      <td>...</td>\n",
       "      <td>...</td>\n",
       "      <td>...</td>\n",
       "      <td>...</td>\n",
       "      <td>...</td>\n",
       "      <td>...</td>\n",
       "    </tr>\n",
       "    <tr>\n",
       "      <th>327</th>\n",
       "      <td>NDARMY301WFK</td>\n",
       "      <td>2016.0</td>\n",
       "      <td>1</td>\n",
       "      <td>20.425507</td>\n",
       "      <td>100.00</td>\n",
       "      <td>1</td>\n",
       "    </tr>\n",
       "    <tr>\n",
       "      <th>328</th>\n",
       "      <td>NDARRU499DP2</td>\n",
       "      <td>2019.0</td>\n",
       "      <td>0</td>\n",
       "      <td>20.485854</td>\n",
       "      <td>73.34</td>\n",
       "      <td>7</td>\n",
       "    </tr>\n",
       "    <tr>\n",
       "      <th>329</th>\n",
       "      <td>NDARPJ151ERK</td>\n",
       "      <td>2019.0</td>\n",
       "      <td>1</td>\n",
       "      <td>20.664271</td>\n",
       "      <td>97.80</td>\n",
       "      <td>7</td>\n",
       "    </tr>\n",
       "    <tr>\n",
       "      <th>330</th>\n",
       "      <td>NDARXJ696AMX</td>\n",
       "      <td>2016.0</td>\n",
       "      <td>0</td>\n",
       "      <td>21.189368</td>\n",
       "      <td>84.47</td>\n",
       "      <td>1</td>\n",
       "    </tr>\n",
       "    <tr>\n",
       "      <th>331</th>\n",
       "      <td>NDARHR443EHF</td>\n",
       "      <td>2017.0</td>\n",
       "      <td>1</td>\n",
       "      <td>21.673967</td>\n",
       "      <td>92.27</td>\n",
       "      <td>1</td>\n",
       "    </tr>\n",
       "  </tbody>\n",
       "</table>\n",
       "<p>332 rows × 6 columns</p>\n",
       "</div>"
      ],
      "text/plain": [
       "               ID    year  sex        age     EHQ  release\n",
       "0    NDARHV527DNK  2016.0    0   5.016997    8.94        1\n",
       "1    NDAREW430AYU  2019.0    1   5.096851   13.34        8\n",
       "2    NDARHJ945PV0  2017.0    0   5.140314  -17.81        2\n",
       "3    NDARGL800LDW  2017.0    0   5.161989   13.34        1\n",
       "4    NDAREM703YFD  2018.0    0   5.189368  100.00        3\n",
       "..            ...     ...  ...        ...     ...      ...\n",
       "327  NDARMY301WFK  2016.0    1  20.425507  100.00        1\n",
       "328  NDARRU499DP2  2019.0    0  20.485854   73.34        7\n",
       "329  NDARPJ151ERK  2019.0    1  20.664271   97.80        7\n",
       "330  NDARXJ696AMX  2016.0    0  21.189368   84.47        1\n",
       "331  NDARHR443EHF  2017.0    1  21.673967   92.27        1\n",
       "\n",
       "[332 rows x 6 columns]"
      ]
     },
     "execution_count": 30,
     "metadata": {},
     "output_type": "execute_result"
    }
   ],
   "source": [
    "age_df = pd.read_csv(ages)\n",
    "age_df"
   ]
  },
  {
   "cell_type": "code",
   "execution_count": 59,
   "id": "6aaa97aa-dfcc-40a9-99f8-29bf69973be7",
   "metadata": {},
   "outputs": [],
   "source": [
    "age_df['ID'] = age_df.ID.astype('str').apply(lambda x: 'sub-' + x)"
   ]
  },
  {
   "cell_type": "code",
   "execution_count": 43,
   "id": "c984c76d-85c6-4f96-9804-9f46aafd5166",
   "metadata": {},
   "outputs": [
    {
     "name": "stderr",
     "output_type": "stream",
     "text": [
      "/home/orco/anaconda3/envs/ventrikel/lib/python3.9/site-packages/pandas/util/_decorators.py:311: ParserWarning: Falling back to the 'python' engine because the 'c' engine does not support regex separators (separators > 1 char and different from '\\s+' are interpreted as regex); you can avoid this warning by specifying engine='python'.\n",
      "  return func(*args, **kwargs)\n"
     ]
    }
   ],
   "source": [
    "seg_df = pd.read_csv(segs, sep='\\t| ')"
   ]
  },
  {
   "cell_type": "code",
   "execution_count": 44,
   "id": "ff9a764b-1429-495a-8d68-91598f77a5b6",
   "metadata": {},
   "outputs": [],
   "source": [
    "seg_df['ID'] = seg_df['Measure:volume'].astype('str')"
   ]
  },
  {
   "cell_type": "markdown",
   "id": "b1c221a1-1902-432b-873d-804ab95882e6",
   "metadata": {},
   "source": [
    "### How many Subjects in the initial list:"
   ]
  },
  {
   "cell_type": "code",
   "execution_count": 45,
   "id": "a6abbbc0-a783-4c49-9367-ea0204bd79e5",
   "metadata": {},
   "outputs": [
    {
     "data": {
      "text/plain": [
       "332"
      ]
     },
     "execution_count": 56,
     "metadata": {},
     "output_type": "execute_result"
    }
   ],
   "source": [
    "len(age_df)"
   ]
  },
  {
   "cell_type": "markdown",
   "id": "72d38679-7ce5-4cb5-947c-9591925eaede",
   "metadata": {},
   "source": [
    "### How many Fastsurfer segmented subjects"
   ]
  },
  {
   "cell_type": "code",
   "execution_count": 46,
   "id": "8a80caf4-89ab-494c-b4fb-c2ae2836817e",
   "metadata": {},
   "outputs": [
    {
     "data": {
      "text/plain": [
       "216"
      ]
     },
     "execution_count": 57,
     "metadata": {},
     "output_type": "execute_result"
    }
   ],
   "source": [
    "len(seg_df)"
   ]
  },
  {
   "cell_type": "markdown",
   "id": "065baa2a-da31-46be-b41e-835be33b41ef",
   "metadata": {},
   "source": [
    "### Join DataFrames"
   ]
  },
  {
   "cell_type": "code",
   "execution_count": 58,
   "id": "33c7fe2b-2c16-480e-9216-2c28446153ea",
   "metadata": {},
   "outputs": [
    {
     "data": {
      "text/html": [
       "<div>\n",
       "<style scoped>\n",
       "    .dataframe tbody tr th:only-of-type {\n",
       "        vertical-align: middle;\n",
       "    }\n",
       "\n",
       "    .dataframe tbody tr th {\n",
       "        vertical-align: top;\n",
       "    }\n",
       "\n",
       "    .dataframe thead th {\n",
       "        text-align: right;\n",
       "    }\n",
       "</style>\n",
       "<table border=\"1\" class=\"dataframe\">\n",
       "  <thead>\n",
       "    <tr style=\"text-align: right;\">\n",
       "      <th></th>\n",
       "      <th>Measure:volume</th>\n",
       "      <th>Unknown</th>\n",
       "      <th>Left-Cerebral-White-Matter</th>\n",
       "      <th>Left-Cerebral-Cortex</th>\n",
       "      <th>Left-Lateral-Ventricle</th>\n",
       "      <th>Left-Inf-Lat-Vent</th>\n",
       "      <th>Left-Cerebellum-White-Matter</th>\n",
       "      <th>Left-Cerebellum-Cortex</th>\n",
       "      <th>Left-Thalamus</th>\n",
       "      <th>Left-Caudate</th>\n",
       "      <th>...</th>\n",
       "      <th>CC_Mid_Posterior</th>\n",
       "      <th>CC_Central</th>\n",
       "      <th>CC_Mid_Anterior</th>\n",
       "      <th>CC_Anterior</th>\n",
       "      <th>ID</th>\n",
       "      <th>year</th>\n",
       "      <th>sex</th>\n",
       "      <th>age</th>\n",
       "      <th>EHQ</th>\n",
       "      <th>release</th>\n",
       "    </tr>\n",
       "  </thead>\n",
       "  <tbody>\n",
       "    <tr>\n",
       "      <th>0</th>\n",
       "      <td>sub-NDARAA075AMK</td>\n",
       "      <td>15584986.0</td>\n",
       "      <td>196446.0</td>\n",
       "      <td>0.0</td>\n",
       "      <td>3783.0</td>\n",
       "      <td>321.0</td>\n",
       "      <td>10743.0</td>\n",
       "      <td>55964.0</td>\n",
       "      <td>7538.0</td>\n",
       "      <td>3823.0</td>\n",
       "      <td>...</td>\n",
       "      <td>0.0</td>\n",
       "      <td>0.0</td>\n",
       "      <td>0.0</td>\n",
       "      <td>0.0</td>\n",
       "      <td>sub-NDARAA075AMK</td>\n",
       "      <td>2016.0</td>\n",
       "      <td>1</td>\n",
       "      <td>6.728040</td>\n",
       "      <td>65.54</td>\n",
       "      <td>1</td>\n",
       "    </tr>\n",
       "    <tr>\n",
       "      <th>1</th>\n",
       "      <td>sub-NDARAC904DMU</td>\n",
       "      <td>15688955.0</td>\n",
       "      <td>196439.0</td>\n",
       "      <td>0.0</td>\n",
       "      <td>1758.0</td>\n",
       "      <td>140.0</td>\n",
       "      <td>12940.0</td>\n",
       "      <td>56679.0</td>\n",
       "      <td>7880.0</td>\n",
       "      <td>3131.0</td>\n",
       "      <td>...</td>\n",
       "      <td>0.0</td>\n",
       "      <td>0.0</td>\n",
       "      <td>0.0</td>\n",
       "      <td>0.0</td>\n",
       "      <td>sub-NDARAC904DMU</td>\n",
       "      <td>2017.0</td>\n",
       "      <td>1</td>\n",
       "      <td>11.338580</td>\n",
       "      <td>71.14</td>\n",
       "      <td>1</td>\n",
       "    </tr>\n",
       "    <tr>\n",
       "      <th>2</th>\n",
       "      <td>sub-NDARAE012DGA</td>\n",
       "      <td>15563791.0</td>\n",
       "      <td>202121.0</td>\n",
       "      <td>0.0</td>\n",
       "      <td>7408.0</td>\n",
       "      <td>495.0</td>\n",
       "      <td>10360.0</td>\n",
       "      <td>53590.0</td>\n",
       "      <td>7284.0</td>\n",
       "      <td>3183.0</td>\n",
       "      <td>...</td>\n",
       "      <td>0.0</td>\n",
       "      <td>0.0</td>\n",
       "      <td>0.0</td>\n",
       "      <td>0.0</td>\n",
       "      <td>sub-NDARAE012DGA</td>\n",
       "      <td>2017.0</td>\n",
       "      <td>0</td>\n",
       "      <td>6.927903</td>\n",
       "      <td>100.00</td>\n",
       "      <td>1</td>\n",
       "    </tr>\n",
       "    <tr>\n",
       "      <th>3</th>\n",
       "      <td>sub-NDARAM277WZT</td>\n",
       "      <td>15664538.0</td>\n",
       "      <td>188775.0</td>\n",
       "      <td>0.0</td>\n",
       "      <td>2332.0</td>\n",
       "      <td>484.0</td>\n",
       "      <td>12044.0</td>\n",
       "      <td>55639.0</td>\n",
       "      <td>7065.0</td>\n",
       "      <td>3387.0</td>\n",
       "      <td>...</td>\n",
       "      <td>0.0</td>\n",
       "      <td>0.0</td>\n",
       "      <td>0.0</td>\n",
       "      <td>0.0</td>\n",
       "      <td>sub-NDARAM277WZT</td>\n",
       "      <td>2016.0</td>\n",
       "      <td>0</td>\n",
       "      <td>14.320670</td>\n",
       "      <td>NaN</td>\n",
       "      <td>1</td>\n",
       "    </tr>\n",
       "    <tr>\n",
       "      <th>4</th>\n",
       "      <td>sub-NDARAM675UR8</td>\n",
       "      <td>15706129.0</td>\n",
       "      <td>191942.0</td>\n",
       "      <td>0.0</td>\n",
       "      <td>2994.0</td>\n",
       "      <td>162.0</td>\n",
       "      <td>11110.0</td>\n",
       "      <td>56794.0</td>\n",
       "      <td>7833.0</td>\n",
       "      <td>3768.0</td>\n",
       "      <td>...</td>\n",
       "      <td>0.0</td>\n",
       "      <td>0.0</td>\n",
       "      <td>0.0</td>\n",
       "      <td>0.0</td>\n",
       "      <td>sub-NDARAM675UR8</td>\n",
       "      <td>2017.0</td>\n",
       "      <td>1</td>\n",
       "      <td>5.548482</td>\n",
       "      <td>53.34</td>\n",
       "      <td>2</td>\n",
       "    </tr>\n",
       "  </tbody>\n",
       "</table>\n",
       "<p>5 rows × 57 columns</p>\n",
       "</div>"
      ],
      "text/plain": [
       "     Measure:volume     Unknown  Left-Cerebral-White-Matter  \\\n",
       "0  sub-NDARAA075AMK  15584986.0                    196446.0   \n",
       "1  sub-NDARAC904DMU  15688955.0                    196439.0   \n",
       "2  sub-NDARAE012DGA  15563791.0                    202121.0   \n",
       "3  sub-NDARAM277WZT  15664538.0                    188775.0   \n",
       "4  sub-NDARAM675UR8  15706129.0                    191942.0   \n",
       "\n",
       "   Left-Cerebral-Cortex  Left-Lateral-Ventricle  Left-Inf-Lat-Vent  \\\n",
       "0                   0.0                  3783.0              321.0   \n",
       "1                   0.0                  1758.0              140.0   \n",
       "2                   0.0                  7408.0              495.0   \n",
       "3                   0.0                  2332.0              484.0   \n",
       "4                   0.0                  2994.0              162.0   \n",
       "\n",
       "   Left-Cerebellum-White-Matter  Left-Cerebellum-Cortex  Left-Thalamus  \\\n",
       "0                       10743.0                 55964.0         7538.0   \n",
       "1                       12940.0                 56679.0         7880.0   \n",
       "2                       10360.0                 53590.0         7284.0   \n",
       "3                       12044.0                 55639.0         7065.0   \n",
       "4                       11110.0                 56794.0         7833.0   \n",
       "\n",
       "   Left-Caudate  ...  CC_Mid_Posterior  CC_Central  CC_Mid_Anterior  \\\n",
       "0        3823.0  ...               0.0         0.0              0.0   \n",
       "1        3131.0  ...               0.0         0.0              0.0   \n",
       "2        3183.0  ...               0.0         0.0              0.0   \n",
       "3        3387.0  ...               0.0         0.0              0.0   \n",
       "4        3768.0  ...               0.0         0.0              0.0   \n",
       "\n",
       "   CC_Anterior                ID    year  sex        age     EHQ  release  \n",
       "0          0.0  sub-NDARAA075AMK  2016.0    1   6.728040   65.54        1  \n",
       "1          0.0  sub-NDARAC904DMU  2017.0    1  11.338580   71.14        1  \n",
       "2          0.0  sub-NDARAE012DGA  2017.0    0   6.927903  100.00        1  \n",
       "3          0.0  sub-NDARAM277WZT  2016.0    0  14.320670     NaN        1  \n",
       "4          0.0  sub-NDARAM675UR8  2017.0    1   5.548482   53.34        2  \n",
       "\n",
       "[5 rows x 57 columns]"
      ]
     },
     "execution_count": 58,
     "metadata": {},
     "output_type": "execute_result"
    }
   ],
   "source": [
    "df = seg_df.join(age_df.set_index('ID'), on='ID')\n",
    "df.head()"
   ]
  },
  {
   "cell_type": "markdown",
   "id": "3cdbe1b0-d563-4938-ac0f-c6f717ec456f",
   "metadata": {},
   "source": [
    "### How Many columns only with zeros"
   ]
  },
  {
   "cell_type": "code",
   "execution_count": 23,
   "id": "28e8bad4-d2f9-4db7-a84e-eb11def252de",
   "metadata": {},
   "outputs": [
    {
     "name": "stdout",
     "output_type": "stream",
     "text": [
      "Left-Cerebral-Cortex\n",
      "Left-vessel\n",
      "Right-Cerebral-Cortex\n",
      "Right-vessel\n",
      "5th-Ventricle\n",
      "Left-WM-hypointensities\n",
      "Right-WM-hypointensities\n",
      "non-WM-hypointensities\n",
      "Left-non-WM-hypointensities\n",
      "Right-non-WM-hypointensities\n",
      "Optic-Chiasm\n",
      "CC_Posterior\n",
      "CC_Mid_Posterior\n",
      "CC_Central\n",
      "CC_Mid_Anterior\n",
      "CC_Anterior\n"
     ]
    }
   ],
   "source": [
    "for i in df.columns:\n",
    "    if df[i].values.sum()==0:\n",
    "        print(i)"
   ]
  },
  {
   "cell_type": "code",
   "execution_count": 25,
   "id": "755d18fc-238f-4109-93ba-1f6138c8562b",
   "metadata": {},
   "outputs": [
    {
     "data": {
      "text/plain": [
       "<AxesSubplot:ylabel='Frequency'>"
      ]
     },
     "execution_count": 25,
     "metadata": {},
     "output_type": "execute_result"
    },
    {
     "data": {
      "image/png": "[encoded data removed]",
      "text/plain": [
       "<Figure size 432x288 with 1 Axes>"
      ]
     },
     "metadata": {
      "needs_background": "light"
     },
     "output_type": "display_data"
    }
   ],
   "source": [
    "df['Left-Cerebral-White-Matter'].plot.hist()"
   ]
  },
  {
   "cell_type": "code",
   "execution_count": 61,
   "id": "acbe7a5d-c367-4819-b895-9316c804beee",
   "metadata": {},
   "outputs": [
    {
     "data": {
      "text/plain": [
       "<AxesSubplot:xlabel='age', ylabel='Left-Cerebral-White-Matter'>"
      ]
     },
     "execution_count": 61,
     "metadata": {},
     "output_type": "execute_result"
    },
    {
     "data": {
      "image/png": "[encoded data removed]",
      "text/plain": [
       "<Figure size 432x288 with 1 Axes>"
      ]
     },
     "metadata": {
      "needs_background": "light"
     },
     "output_type": "display_data"
    }
   ],
   "source": [
    "df.plot.scatter(y='Left-Cerebral-White-Matter',\n",
    "               x='age')"
   ]
  },
  {
   "cell_type": "code",
   "execution_count": 98,
   "id": "5dfc1a14-2dbc-4de0-a209-e05e6da40a09",
   "metadata": {
    "tags": []
   },
   "outputs": [],
   "source": [
    "o = dict()\n",
    "n = dict()\n",
    "s = dict()\n",
    "for i in seg_df.columns:\n",
    "    try:\n",
    "        mean = df[i].values.mean()\n",
    "        std = df[i].values.std()\n",
    "        #print(i)\n",
    "        outliers = (df[i].values <  mean - 2.698*std) | (df[i].values > mean + 2.698*std)\n",
    "        #print(outliers.sum())\n",
    "        o[i] = [j for j in df.ID.values * outliers if j]\n",
    "        n[i] = outliers.sum()\n",
    "        for sub in o:\n",
    "            s[sub] += [i]\n",
    "    except:\n",
    "        pass"
   ]
  },
  {
   "cell_type": "code",
   "execution_count": 99,
   "id": "b050e055-f5fe-46a1-95f9-0d7c261b037a",
   "metadata": {},
   "outputs": [
    {
     "data": {
      "text/plain": [
       "6"
      ]
     },
     "execution_count": 99,
     "metadata": {},
     "output_type": "execute_result"
    }
   ],
   "source": [
    "i = 'Right-Thalamus'\n",
    "mean = df[i].values.mean()\n",
    "std = df[i].values.std()\n",
    "\n",
    "outliers = (df[i].values <  mean - 2.698*std) | (df[i].values > mean + 2.698*std)\n",
    "outliers.sum()"
   ]
  },
  {
   "cell_type": "code",
   "execution_count": 100,
   "id": "553dfecf-e43e-4dc7-b813-b96ae15d3c59",
   "metadata": {},
   "outputs": [
    {
     "data": {
      "text/plain": [
       "['sub-NDARFN854EJB',\n",
       " 'sub-NDARHP924ZHW',\n",
       " 'sub-NDARHX252NVH',\n",
       " 'sub-NDARJV377HG4',\n",
       " 'sub-NDARXT792GY8',\n",
       " 'sub-NDARYK164AEJ']"
      ]
     },
     "execution_count": 100,
     "metadata": {},
     "output_type": "execute_result"
    }
   ],
   "source": [
    "[i for i in df.ID.values * outliers if i]"
   ]
  },
  {
   "cell_type": "code",
   "execution_count": 101,
   "id": "9fab09e3-1786-428c-b869-8ea4ae2c0dbc",
   "metadata": {},
   "outputs": [],
   "source": [
    "l = []\n",
    "for i in o.keys():\n",
    "    l += o[i]"
   ]
  },
  {
   "cell_type": "code",
   "execution_count": 102,
   "id": "9c515a95-d8da-49ad-8395-28adffc9768f",
   "metadata": {},
   "outputs": [],
   "source": [
    "values, counts = np.unique(l, return_counts=True)"
   ]
  },
  {
   "cell_type": "code",
   "execution_count": 110,
   "id": "6be1cefb-d7c8-4ce7-a1fa-933b5ca1a46f",
   "metadata": {},
   "outputs": [
    {
     "name": "stdout",
     "output_type": "stream",
     "text": [
      "('sub-NDARAC904DMU', 1)\n",
      "('sub-NDARBW268XPY', 2)\n",
      "('sub-NDARDT800YVF', 1)\n",
      "('sub-NDARFL411AT1', 2)\n",
      "('sub-NDARFN854EJB', 23)\n",
      "('sub-NDARGH592NZ2', 2)\n",
      "('sub-NDARGH790CEF', 1)\n",
      "('sub-NDARHP924ZHW', 14)\n",
      "('sub-NDARHX252NVH', 19)\n",
      "('sub-NDARJM708VGE', 2)\n",
      "('sub-NDARJV377HG4', 15)\n",
      "('sub-NDARJZ089HVP', 1)\n",
      "('sub-NDARKH837TB2', 2)\n",
      "('sub-NDARKT811ATJ', 2)\n",
      "('sub-NDARKV482FU9', 1)\n",
      "('sub-NDARLU111UYF', 1)\n",
      "('sub-NDARMZ366UY8', 1)\n",
      "('sub-NDARNH342XLK', 1)\n",
      "('sub-NDARPH022TRY', 2)\n",
      "('sub-NDARPZ621ZLE', 1)\n",
      "('sub-NDARRZ653HKY', 1)\n",
      "('sub-NDARUD764NFJ', 1)\n",
      "('sub-NDARUF935UL3', 10)\n",
      "('sub-NDARUG323DM3', 4)\n",
      "('sub-NDARVE724GEF', 1)\n",
      "('sub-NDARVG461LA2', 1)\n",
      "('sub-NDARWR247CE1', 1)\n",
      "('sub-NDARXT792GY8', 21)\n",
      "('sub-NDARYH110YV9', 4)\n",
      "('sub-NDARYH697TPA', 1)\n",
      "('sub-NDARYK164AEJ', 7)\n",
      "('sub-NDARZR529EJ1', 1)\n",
      "('sub-NDARZV983XK9', 1)\n"
     ]
    }
   ],
   "source": [
    "for i in zip(values,counts):\n",
    "    print(i)"
   ]
  },
  {
   "cell_type": "code",
   "execution_count": 112,
   "id": "f339fb27-01a9-417a-95b8-7ee4e1b7c7e1",
   "metadata": {},
   "outputs": [],
   "source": [
    "pd.DataFrame(zip(values,counts)).to_csv('count_deviations_hist.csv')"
   ]
  },
  {
   "cell_type": "code",
   "execution_count": 105,
   "id": "483fc810-1170-4791-9f15-a39dfb8ff50a",
   "metadata": {},
   "outputs": [],
   "source": [
    "pd.DataFrame.from_dict(o, orient='index').to_csv('outliers_dist_ROI.csv')"
   ]
  },
  {
   "cell_type": "code",
   "execution_count": 106,
   "id": "c4e32ee0-a21f-489c-824c-de33bf57f74b",
   "metadata": {},
   "outputs": [
    {
     "data": {
      "text/plain": [
       "{}"
      ]
     },
     "execution_count": 106,
     "metadata": {},
     "output_type": "execute_result"
    }
   ],
   "source": [
    "s"
   ]
  },
  {
   "cell_type": "code",
   "execution_count": null,
   "id": "acf17ff3-e8a9-49d9-8811-3acceec69f1e",
   "metadata": {},
   "outputs": [],
   "source": []
  }
 ],
 "metadata": {
  "kernelspec": {
   "display_name": "Python 3 (ipykernel)",
   "language": "python",
   "name": "python3"
  },
  "language_info": {
   "codemirror_mode": {
    "name": "ipython",
    "version": 3
   },
   "file_extension": ".py",
   "mimetype": "text/x-python",
   "name": "python",
   "nbconvert_exporter": "python",
   "pygments_lexer": "ipython3",
   "version": "3.9.7"
  }
 },
 "nbformat": 4,
 "nbformat_minor": 5
}
